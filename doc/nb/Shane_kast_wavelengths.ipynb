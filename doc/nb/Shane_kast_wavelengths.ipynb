{
 "cells": [
  {
   "cell_type": "markdown",
   "metadata": {},
   "source": [
    "# Arc line templates for Shane Kast"
   ]
  },
  {
   "cell_type": "code",
   "execution_count": 3,
   "metadata": {},
   "outputs": [],
   "source": [
    "# imports\n",
    "from pkg_resources import resource_filename\n",
    "from importlib import reload\n",
    "from matplotlib import pyplot as plt\n",
    "import os\n",
    "import numpy as np\n",
    "from scipy.io import readsav \n",
    "\n",
    "from astropy import units\n",
    "from astropy.table import Table\n",
    "\n",
    "from linetools import utils as ltu\n",
    "from linetools.spectra import xspectrum1d as xspec\n",
    "\n",
    "from pypeit import utils\n",
    "from pypeit.core.wave import airtovac\n",
    "from pypeit.core.wavecal import waveio\n",
    "from pypeit.core.wavecal import autoid\n",
    "from pypeit.core.wavecal import templates\n",
    "from pypeit.spectrographs import util"
   ]
  },
  {
   "cell_type": "markdown",
   "metadata": {},
   "source": [
    "## Blue grisms"
   ]
  },
  {
   "cell_type": "markdown",
   "metadata": {},
   "source": [
    "### 452/3306"
   ]
  },
  {
   "cell_type": "markdown",
   "metadata": {},
   "source": [
    "#### Load"
   ]
  },
  {
   "cell_type": "code",
   "execution_count": 4,
   "metadata": {},
   "outputs": [],
   "source": [
    "xidl_dir = os.getenv('XIDL_DIR')"
   ]
  },
  {
   "cell_type": "code",
   "execution_count": 5,
   "metadata": {},
   "outputs": [],
   "source": [
    "xidl_file = os.path.join(xidl_dir, 'Spec', 'Longslit', 'calib', 'linelists', 'kast_452_3306.sav')\n",
    "xidl_dict = readsav(xidl_file)"
   ]
  },
  {
   "cell_type": "code",
   "execution_count": 11,
   "metadata": {},
   "outputs": [
    {
     "data": {
      "text/plain": [
       "2048"
      ]
     },
     "execution_count": 11,
     "metadata": {},
     "output_type": "execute_result"
    }
   ],
   "source": [
    "npix = xidl_dict['archive_arc'].shape[0]\n",
    "npix"
   ]
  },
  {
   "cell_type": "markdown",
   "metadata": {},
   "source": [
    "#### Build"
   ]
  },
  {
   "cell_type": "code",
   "execution_count": 14,
   "metadata": {},
   "outputs": [],
   "source": [
    "reload(templates)\n",
    "slit = 0\n",
    "calib = xidl_dict['calib'][slit]\n",
    "wv_air = templates.poly_val(calib['FFIT'], np.arange(npix), calib['NRM'])\n",
    "wv_vac = airtovac(wv_air*units.AA)"
   ]
  },
  {
   "cell_type": "markdown",
   "metadata": {},
   "source": [
    "#### Plot"
   ]
  },
  {
   "cell_type": "code",
   "execution_count": 18,
   "metadata": {},
   "outputs": [
    {
     "data": {
      "image/png": "[encoded data removed]",
      "text/plain": [
       "<Figure size 432x288 with 1 Axes>"
      ]
     },
     "metadata": {},
     "output_type": "display_data"
    }
   ],
   "source": [
    "plt.clf()\n",
    "ax=plt.gca()\n",
    "ax.plot(wv_vac, xidl_dict['archive_arc'])\n",
    "plt.show()"
   ]
  },
  {
   "cell_type": "markdown",
   "metadata": {},
   "source": [
    "### 600/4310"
   ]
  },
  {
   "cell_type": "markdown",
   "metadata": {},
   "source": [
    "#### Load"
   ]
  },
  {
   "cell_type": "code",
   "execution_count": 19,
   "metadata": {},
   "outputs": [],
   "source": [
    "xidl_file = os.path.join(xidl_dir, 'Spec/Longslit/calib/linelists/kast_600_4310.sav')\n",
    "xidl_dict = readsav(xidl_file)"
   ]
  },
  {
   "cell_type": "code",
   "execution_count": 20,
   "metadata": {},
   "outputs": [
    {
     "data": {
      "text/plain": [
       "(4, 2048)"
      ]
     },
     "execution_count": 20,
     "metadata": {},
     "output_type": "execute_result"
    }
   ],
   "source": [
    "nspec = xidl_dict['archive_arc'].shape[0]\n",
    "npix = xidl_dict['archive_arc'].shape[1]\n",
    "nspec, npix"
   ]
  },
  {
   "cell_type": "code",
   "execution_count": 21,
   "metadata": {},
   "outputs": [
    {
     "data": {
      "text/plain": [
       "array([b'POLY', b'POLY', b'POLY', b'POLY'], dtype=object)"
      ]
     },
     "execution_count": 21,
     "metadata": {},
     "output_type": "execute_result"
    }
   ],
   "source": [
    "xidl_dict['calib']['FUNC']"
   ]
  },
  {
   "cell_type": "markdown",
   "metadata": {},
   "source": [
    "#### Check em"
   ]
  },
  {
   "cell_type": "code",
   "execution_count": 22,
   "metadata": {},
   "outputs": [],
   "source": [
    "# Standard\n",
    "slit = 0 # central\n",
    "#slit = 3 # red\n",
    "calib = xidl_dict['calib'][slit]\n",
    "wv_air = templates.poly_val(calib['FFIT'], np.arange(npix),\n",
    "                           calib['NRM'])\n",
    "wv_vac = airtovac(wv_air*units.AA)"
   ]
  },
  {
   "cell_type": "code",
   "execution_count": 23,
   "metadata": {},
   "outputs": [
    {
     "data": {
      "image/png": "[encoded data removed]",
      "text/plain": [
       "<Figure size 432x288 with 1 Axes>"
      ]
     },
     "metadata": {},
     "output_type": "display_data"
    }
   ],
   "source": [
    "plt.clf()\n",
    "ax=plt.gca()\n",
    "ax.plot(wv_vac, xidl_dict['archive_arc'][slit])\n",
    "plt.show()"
   ]
  },
  {
   "cell_type": "markdown",
   "metadata": {},
   "source": [
    "### 830/3460"
   ]
  },
  {
   "cell_type": "markdown",
   "metadata": {},
   "source": [
    "#### Load"
   ]
  },
  {
   "cell_type": "code",
   "execution_count": 25,
   "metadata": {},
   "outputs": [],
   "source": [
    "xidl_file = os.path.join(xidl_dir, 'Spec/Longslit/calib/linelists/kast_830_3460.sav')\n",
    "xidl_dict = readsav(xidl_file)"
   ]
  },
  {
   "cell_type": "code",
   "execution_count": 26,
   "metadata": {},
   "outputs": [
    {
     "data": {
      "text/plain": [
       "(2, 2048)"
      ]
     },
     "execution_count": 26,
     "metadata": {},
     "output_type": "execute_result"
    }
   ],
   "source": [
    "nspec = xidl_dict['archive_arc'].shape[0]\n",
    "npix = xidl_dict['archive_arc'].shape[1]\n",
    "nspec, npix"
   ]
  },
  {
   "cell_type": "code",
   "execution_count": 27,
   "metadata": {},
   "outputs": [
    {
     "data": {
      "text/plain": [
       "array([b'POLY', b'POLY'], dtype=object)"
      ]
     },
     "execution_count": 27,
     "metadata": {},
     "output_type": "execute_result"
    }
   ],
   "source": [
    "xidl_dict['calib']['FUNC']"
   ]
  },
  {
   "cell_type": "markdown",
   "metadata": {},
   "source": [
    "#### Check em"
   ]
  },
  {
   "cell_type": "code",
   "execution_count": 28,
   "metadata": {},
   "outputs": [
    {
     "data": {
      "text/latex": [
       "$3272.0829 \\; \\mathrm{\\mathring{A}}$"
      ],
      "text/plain": [
       "<Quantity 3272.08285988 Angstrom>"
      ]
     },
     "execution_count": 28,
     "metadata": {},
     "output_type": "execute_result"
    }
   ],
   "source": [
    "# Standard\n",
    "slit = 0 # bluer (not very blue)\n",
    "#slit = 1 # a little redder\n",
    "calib = xidl_dict['calib'][slit]\n",
    "wv_air = templates.poly_val(calib['FFIT'], np.arange(npix),\n",
    "                           calib['NRM'])\n",
    "wv_vac = airtovac(wv_air*units.AA)\n",
    "wv_vac[0]"
   ]
  },
  {
   "cell_type": "code",
   "execution_count": 29,
   "metadata": {},
   "outputs": [
    {
     "data": {
      "image/png": "[encoded data removed]",
      "text/plain": [
       "<Figure size 432x288 with 1 Axes>"
      ]
     },
     "metadata": {},
     "output_type": "display_data"
    }
   ],
   "source": [
    "plt.clf()\n",
    "ax=plt.gca()\n",
    "ax.plot(wv_vac, xidl_dict['archive_arc'][slit])\n",
    "plt.show()"
   ]
  },
  {
   "cell_type": "code",
   "execution_count": null,
   "metadata": {},
   "outputs": [],
   "source": []
  }
 ],
 "metadata": {
  "kernelspec": {
   "display_name": "Python 3",
   "language": "python",
   "name": "python3"
  },
  "language_info": {
   "codemirror_mode": {
    "name": "ipython",
    "version": 3
   },
   "file_extension": ".py",
   "mimetype": "text/x-python",
   "name": "python",
   "nbconvert_exporter": "python",
   "pygments_lexer": "ipython3",
   "version": "3.9.2"
  }
 },
 "nbformat": 4,
 "nbformat_minor": 2
}
